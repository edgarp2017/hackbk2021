{
 "cells": [
  {
   "cell_type": "markdown",
   "metadata": {},
   "source": [
    "# Supervised Classification model sklearn"
   ]
  },
  {
   "cell_type": "code",
   "execution_count": 121,
   "metadata": {},
   "outputs": [],
   "source": [
    "import pandas as pd\n",
    "import numpy as np\n",
    "import os\n",
    "\n",
    "# sklearn ML models \n",
    "from sklearn.svm import SVC\n",
    "from sklearn.ensemble import RandomForestClassifier\n",
    "from sklearn.linear_model import LogisticRegression\n",
    "from sklearn.naive_bayes import MultinomialNB\n",
    "\n",
    "# img processing\n",
    "from skimage.io import imread\n",
    "from skimage.transform import resize\n",
    "from matplotlib import pyplot as plt\n",
    "\n",
    "# train split data\n",
    "from sklearn.model_selection import train_test_split\n",
    "\n",
    "# metrics\n",
    "from sklearn import metrics"
   ]
  },
  {
   "cell_type": "code",
   "execution_count": null,
   "metadata": {},
   "outputs": [],
   "source": [
    "DATASET_LOCATION = \"../data\"\n",
    "\n",
    "filenames = os.listdir(DATASET_LOCATION)\n",
    "\n",
    "# List of category names\n",
    "categories = []\n",
    "# List of files that fit into those categories\n",
    "image_classes = []\n",
    "image_links = []\n",
    "\n",
    "# img constants\n",
    "IMAGE_WIDTH = 320    \n",
    "IMAGE_HEIGHT = 320\n",
    "IMAGE_SIZE=(IMAGE_WIDTH, IMAGE_HEIGHT)\n",
    "\n",
    "# Takes each image and places it into the image class list & respective category\n",
    "for filename in filenames:\n",
    "    files = os.listdir(DATASET_LOCATION+\"/\"+filename)\n",
    "    for file in files:\n",
    "        categories.append(filename)\n",
    "        im = imread(DATASET_LOCATION+\"/\"+filename+\"/\"+file)\n",
    "        im = resize(im, (IMAGE_WIDTH, IMAGE_HEIGHT))\n",
    "        image_classes.append(file)\n",
    "        image_links.append(im)\n",
    "        \n",
    "print(categories)\n",
    "# Dataframe\n",
    "df = pd.DataFrame(\n",
    "    {\"Category\": categories,\n",
    "     \"Imagename\": image_classes,\n",
    "     \"Image\": image_lists})\n",
    "\n",
    "print(image_classes)\n",
    "print(image_links)\n",
    "\n",
    "# Debugging\n",
    "# len(df)"
   ]
  },
  {
   "cell_type": "code",
   "execution_count": null,
   "metadata": {},
   "outputs": [],
   "source": []
  }
 ],
 "metadata": {
  "kernelspec": {
   "display_name": "Python 3",
   "language": "python",
   "name": "python3"
  },
  "language_info": {
   "codemirror_mode": {
    "name": "ipython",
    "version": 3
   },
   "file_extension": ".py",
   "mimetype": "text/x-python",
   "name": "python",
   "nbconvert_exporter": "python",
   "pygments_lexer": "ipython3",
   "version": "3.7.6"
  }
 },
 "nbformat": 4,
 "nbformat_minor": 4
}
